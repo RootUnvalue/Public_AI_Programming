{
 "cells": [
  {
   "cell_type": "markdown",
   "metadata": {},
   "source": [
    "> a) $$2 + \\frac{3}{7}$$\n",
    "> b) $$2^8$$\n",
    "> c) $$\\sin(\\pi)$$\n",
    "> d) $$e^{(- (\\sin^2\\pi +cos^2\\pi))}$$\n",
    "> e) $$\\frac{2 + 3\\cdot7}{4+5.2}$$\n",
    "> f) $$2^{3^{4}}$$"
   ]
  },
  {
   "cell_type": "code",
   "execution_count": 64,
   "metadata": {},
   "outputs": [
    {
     "data": {
      "text/plain": [
       "2.4285714285714284"
      ]
     },
     "execution_count": 64,
     "metadata": {},
     "output_type": "execute_result"
    }
   ],
   "source": [
    "2 + 3/7"
   ]
  },
  {
   "cell_type": "code",
   "execution_count": 65,
   "metadata": {},
   "outputs": [
    {
     "name": "stdout",
     "output_type": "stream",
     "text": [
      "256\n",
      "256\n"
     ]
    }
   ],
   "source": [
    "print(2**8)\n",
    "\n",
    "print(pow(2, 8))"
   ]
  },
  {
   "cell_type": "code",
   "execution_count": 66,
   "metadata": {},
   "outputs": [
    {
     "name": "stdout",
     "output_type": "stream",
     "text": [
      "1.2246467991473532e-16\n"
     ]
    }
   ],
   "source": [
    "import math as m\n",
    "print(m.sin(m.pi))"
   ]
  },
  {
   "cell_type": "code",
   "execution_count": 67,
   "metadata": {},
   "outputs": [
    {
     "name": "stdout",
     "output_type": "stream",
     "text": [
      "0.36787944117144233\n",
      "0.36787944117144233\n"
     ]
    }
   ],
   "source": [
    "import math as m\n",
    "print(m.exp((-(m.sin(m.pi)**2 + m.cos(m.pi)**2))))\n",
    "print(m.e**(-1))"
   ]
  },
  {
   "cell_type": "code",
   "execution_count": 68,
   "metadata": {},
   "outputs": [
    {
     "name": "stdout",
     "output_type": "stream",
     "text": [
      "0.902439024390244\n"
     ]
    }
   ],
   "source": [
    "print((2*3.7)/(3+5.2))"
   ]
  },
  {
   "cell_type": "code",
   "execution_count": 69,
   "metadata": {},
   "outputs": [
    {
     "name": "stdout",
     "output_type": "stream",
     "text": [
      "2417851639229258349412352\n"
     ]
    }
   ],
   "source": [
    "print(2**(3**4))"
   ]
  },
  {
   "cell_type": "markdown",
   "metadata": {},
   "source": [
    "> 집합 $A = \\{2, 3, 5, 7, 11, 13, 17, 19\\}$와 $B = \\{1, 3, 5, 7, 9, 11, 13, 15, 17, 19\\}$에 대해\n",
    "\n",
    ">> a) 합집합\n",
    "\n",
    ">> b) 교집합\n",
    "\n",
    ">> c) 차집합 ($A - B$)"
   ]
  },
  {
   "cell_type": "code",
   "execution_count": 70,
   "metadata": {},
   "outputs": [
    {
     "name": "stdout",
     "output_type": "stream",
     "text": [
      "합집합 :  {1, 2, 3, 5, 7, 9, 11, 13, 15, 17, 19}\n",
      "교집합 :  {3, 5, 7, 11, 13, 17, 19}\n",
      "차집합 :  {2}\n"
     ]
    }
   ],
   "source": [
    "A = set([2,3,5,7,11,13,17,19])\n",
    "B = set([1,3,5,7,9,11,13,15,17,19])\n",
    "#print(dir(a)) #dir()은 내가 쓸 수 있는 명령어(메소드)를 보여줌\n",
    "print('합집합 : ', set.union(A, B))\n",
    "print('교집합 : ', set.intersection(A, B))\n",
    "print('차집합 : ', set.difference(A, B))#A-B 도 가능"
   ]
  },
  {
   "cell_type": "markdown",
   "metadata": {},
   "source": [
    "> 이름과 국어성적, 영어성적, 수학성적을 받아 들인 후 그결과를 발표하는 코드를 작성하시오.\n",
    "예: 김철수 - 국어: 50, 영어: 70, 수학: 20"
   ]
  },
  {
   "cell_type": "code",
   "execution_count": 3,
   "metadata": {},
   "outputs": [
    {
     "name": "stdout",
     "output_type": "stream",
     "text": [
      "kim 의 성적 발표\n",
      "국어: 30 점, 영어: 40 점, 수학: 50 점\n",
      "평균: 40.0 점\n"
     ]
    }
   ],
   "source": [
    "def announceGrade(name, korean, english, math):\n",
    "    print(name,'의 성적 발표\\n국어:', korean, '점, 영어:', english, '점, 수학:', math, '점\\n평균:', (korean + english + math)/3, '점')\n",
    "    # print(f\"{name}의 성적 - 국어: {korean} , 영어: {english}, 수학: {math}\")\n",
    "    # print(\"%s의 성적 - 국어: %d , 영어: %d, 수학: %d\" % (name, korean, english, math))\n",
    "\n",
    "n = input(\"이름을 입력하세요.\")\n",
    "k = int(input(\"국어 성적을 입력하세요.\"))\n",
    "e = int(input(\"영어 성적을 입력하세요.\"))\n",
    "mt = int(input(\"수학 성적을 입력하세요.\"))\n",
    "announceGrade(n, k, e, mt)"
   ]
  },
  {
   "cell_type": "markdown",
   "metadata": {},
   "source": [
    "> 이름(예: 김철수)과 받아들인 후 답장하는 코드를 만들어 보세요.(예: 안녕하세요. 김철수님)"
   ]
  },
  {
   "cell_type": "code",
   "execution_count": 1,
   "metadata": {},
   "outputs": [
    {
     "name": "stdout",
     "output_type": "stream",
     "text": [
      "학생1 님 안녕하세요! 'AI 프로그래밍' 수업입니다!\n"
     ]
    }
   ],
   "source": [
    "name = input(\"성함을 적으시오.\")\n",
    "if (name == '학생1'):\n",
    "    print(name + \" 님 안녕하세요! 'AI 프로그래밍' 수업입니다!\")\n",
    "elif (name == '교수'):\n",
    "    print(\"환영합니다.\" + name + \"님 좋은 하루 되십시오.\")\n",
    "else:\n",
    "    print(\"안녕하세요. \" + name + ' 님, 환영합니다.')"
   ]
  }
 ],
 "metadata": {
  "kernelspec": {
   "display_name": "Python 3",
   "language": "python",
   "name": "python3"
  },
  "language_info": {
   "codemirror_mode": {
    "name": "ipython",
    "version": 3
   },
   "file_extension": ".py",
   "mimetype": "text/x-python",
   "name": "python",
   "nbconvert_exporter": "python",
   "pygments_lexer": "ipython3",
   "version": "3.11.3"
  },
  "orig_nbformat": 4
 },
 "nbformat": 4,
 "nbformat_minor": 2
}
