{
 "cells": [
  {
   "cell_type": "markdown",
   "metadata": {},
   "source": [
    "> a) tuple에 사용할 수 있는 method를 한줄에 하나씩 적어 보시오.\n",
    "\n",
    "> b) tuple에 사용할 수 있는 method 중에서 \"__\"로 시작하지 않는 method를  한줄에 하나씩 적어 보시오.\n",
    "\n",
    "> c) tuple의  count라는 method는 어떤 용도에 사용하는 것인지 알아보시오.\n",
    "\n",
    "> d) tuple의  index라는 method는 어떤 용도에 사용하는 것인지 알아보시오."
   ]
  },
  {
   "cell_type": "code",
   "execution_count": 12,
   "metadata": {},
   "outputs": [
    {
     "name": "stdout",
     "output_type": "stream",
     "text": [
      "__add__\n",
      "__class__\n",
      "__class_getitem__\n",
      "__contains__\n",
      "__delattr__\n",
      "__dir__\n",
      "__doc__\n",
      "__eq__\n",
      "__format__\n",
      "__ge__\n",
      "__getattribute__\n",
      "__getitem__\n",
      "__getnewargs__\n",
      "__getstate__\n",
      "__gt__\n",
      "__hash__\n",
      "__init__\n",
      "__init_subclass__\n",
      "__iter__\n",
      "__le__\n",
      "__len__\n",
      "__lt__\n",
      "__mul__\n",
      "__ne__\n",
      "__new__\n",
      "__reduce__\n",
      "__reduce_ex__\n",
      "__repr__\n",
      "__rmul__\n",
      "__setattr__\n",
      "__sizeof__\n",
      "__str__\n",
      "__subclasshook__\n",
      "count\n",
      "index\n"
     ]
    }
   ],
   "source": [
    "_methods = dir(tuple)\n",
    "for x in _methods:\n",
    "    print(x)"
   ]
  },
  {
   "cell_type": "code",
   "execution_count": 9,
   "metadata": {},
   "outputs": [
    {
     "name": "stdout",
     "output_type": "stream",
     "text": [
      "count\n",
      "index\n"
     ]
    }
   ],
   "source": [
    "for x in _methods:\n",
    "    if x[0] != '_':\n",
    "        print(x)"
   ]
  },
  {
   "cell_type": "markdown",
   "metadata": {},
   "source": [
    "Tuple에서 'count' method는 Tuple내에 존재하는 원소의 개수를 알려준다."
   ]
  },
  {
   "cell_type": "code",
   "execution_count": 13,
   "metadata": {},
   "outputs": [
    {
     "name": "stdout",
     "output_type": "stream",
     "text": [
      "2\n",
      "1\n"
     ]
    }
   ],
   "source": [
    "A_tuble = (1,2,3,4,5,6,7,8,9,0,1)\n",
    "\n",
    "print(A_tuble.count(1))\n",
    "print(A_tuble.count(2))"
   ]
  },
  {
   "cell_type": "markdown",
   "metadata": {},
   "source": [
    "Tuple에서 'index' method는 Tuple내에 존재하는 원소의 index(순서)를 알려주며,\n",
    "시작점(없으면 0번째 index부터) 가장 가까운 index를 알려준다.\n",
    "tuple.index('찾을 원소', 시작점, 끝점) 의 형식으로 사용한다."
   ]
  },
  {
   "cell_type": "code",
   "execution_count": 15,
   "metadata": {},
   "outputs": [
    {
     "name": "stdout",
     "output_type": "stream",
     "text": [
      "10\n"
     ]
    }
   ],
   "source": [
    "print(A_tuble.index(1, 1))\n"
   ]
  },
  {
   "cell_type": "markdown",
   "metadata": {},
   "source": [
    "> a) ../2_Input/input.txt --> ../3_Output/output2.txt로 내용을 그대로 옮기시오\n",
    "\n",
    "> b) ../2_Input/input.txt --> ../3_Output/output3.txt로 내용을 대문자로 바꾸어 옮기시오"
   ]
  },
  {
   "cell_type": "code",
   "execution_count": 39,
   "metadata": {},
   "outputs": [],
   "source": [
    "with open('../23.02_AP1/2_Input/input.txt', 'r') as ifp:\n",
    "    fileStirng = ifp.read()\n",
    "\n",
    "with open('../23.02_AP1/3_Output/input2.txt', 'w') as ofp:\n",
    "    ofp.write(fileStirng)"
   ]
  },
  {
   "cell_type": "code",
   "execution_count": 40,
   "metadata": {},
   "outputs": [],
   "source": [
    "fileStirng_Upper = fileStirng.upper()\n",
    "\n",
    "with open('../23.02_AP1/3_Output/input3.txt', 'w') as ofp:\n",
    "    ofp.write(fileStirng_Upper)\n",
    "\n",
    "ifp.close()\n",
    "ofp.close()"
   ]
  },
  {
   "cell_type": "markdown",
   "metadata": {},
   "source": [
    "> a) ../2_Input/words.txt를 읽고 그 안에 단어가 몇개나 있는지 알아보시오.\n",
    "\n",
    "> b) ../2_Input/words.txt를 읽고 그 안에 단어중에서 가장 긴 단어를 찾아보시오."
   ]
  },
  {
   "cell_type": "code",
   "execution_count": 37,
   "metadata": {},
   "outputs": [
    {
     "name": "stdout",
     "output_type": "stream",
     "text": [
      "113810\n"
     ]
    }
   ],
   "source": [
    "with open('../23.02_AP1/2_Input/words.txt', 'r') as ifp:\n",
    "    fileString_w = ifp.read()\n",
    "\n",
    "list_words = fileString_w.split('\\n')\n",
    "print(len(list_words))"
   ]
  },
  {
   "cell_type": "code",
   "execution_count": 47,
   "metadata": {},
   "outputs": [
    {
     "name": "stdout",
     "output_type": "stream",
     "text": [
      "21 ['counterdemonstrations', 'hyperaggressivenesses', 'microminiaturizations']\n"
     ]
    }
   ],
   "source": [
    "len_x = 0\n",
    "word_x = []\n",
    "for x in list_words:\n",
    "    if len(x) > len_x:\n",
    "        len_x = len(x)\n",
    "        word_x.clear()\n",
    "        word_x.append(x)\n",
    "    elif len(x) >= len_x:\n",
    "        word_x.append(x)\n",
    "\n",
    "\n",
    "print(len_x , word_x)"
   ]
  },
  {
   "cell_type": "markdown",
   "metadata": {},
   "source": [
    "> a) ../2_Input/words.txt를 읽고 알파벳별로 사용된 횟수를 적으시오.\n",
    "\n",
    "> b) ../2_Input/words.txt를 읽고 알파벳별로 사용된 비율을 적으시오.\n"
   ]
  },
  {
   "cell_type": "code",
   "execution_count": 51,
   "metadata": {},
   "outputs": [
    {
     "name": "stdout",
     "output_type": "stream",
     "text": [
      "{'a': 68582, 'h': 20200, 'e': 106758, 'd': 34552, 'i': 77412, 'n': 60513, 'g': 27848, 's': 86547, 'l': 47011, 'r': 64965, 'v': 9186, 'k': 9370, 'w': 8535, 'o': 54542, 'f': 12714, 'b': 17798, 'c': 34287, 'u': 31161, 't': 57059, 'm': 24741, 'p': 25789, 'y': 13473, 'x': 2700, 'j': 1780, 'z': 3750, 'q': 1632}\n"
     ]
    }
   ],
   "source": [
    "list_words = fileString_w.split()\n",
    "alphabet_count = {}\n",
    "for word in list_words:\n",
    "    for x in word:\n",
    "        if x in alphabet_count:\n",
    "            alphabet_count[x] = alphabet_count[x] + 1\n",
    "        else:\n",
    "            alphabet_count[x] = 1\n",
    "\n",
    "print(alphabet_count)"
   ]
  },
  {
   "cell_type": "code",
   "execution_count": 52,
   "metadata": {},
   "outputs": [
    {
     "name": "stdout",
     "output_type": "stream",
     "text": [
      "902905\n",
      "{'a': 0.07595704974498978, 'h': 0.022372231851634446, 'e': 0.11823835287211833, 'd': 0.038267591828597694, 'i': 0.08573659465835276, 'n': 0.06702033990286907, 'g': 0.030842668940807727, 's': 0.09585393812195081, 'l': 0.05206638572164292, 'r': 0.07195109120007089, 'v': 0.010173827811342278, 'k': 0.010377614477713602, 'w': 0.009452821725430693, 'o': 0.06040724107187356, 'f': 0.014081215631766354, 'b': 0.01971192982650445, 'c': 0.03797409472757378, 'u': 0.03451193647172183, 't': 0.06319490976348564, 'm': 0.02740155387333108, 'p': 0.028562251842663405, 'y': 0.014921835630548065, 'x': 0.002990347821753119, 'j': 0.001971414489896501, 'z': 0.004153260863545998, 'q': 0.0018074991278152187}\n"
     ]
    }
   ],
   "source": [
    "total = 0\n",
    "\n",
    "for x in alphabet_count:\n",
    "    total = total + alphabet_count[x]\n",
    "\n",
    "print(total)\n",
    "\n",
    "alphabet_ratio = {}\n",
    "for x in alphabet_count:\n",
    "    alphabet_ratio[x] = alphabet_count[x]/total\n",
    "\n",
    "print(alphabet_ratio)"
   ]
  }
 ],
 "metadata": {
  "kernelspec": {
   "display_name": "Python 3",
   "language": "python",
   "name": "python3"
  },
  "language_info": {
   "codemirror_mode": {
    "name": "ipython",
    "version": 3
   },
   "file_extension": ".py",
   "mimetype": "text/x-python",
   "name": "python",
   "nbconvert_exporter": "python",
   "pygments_lexer": "ipython3",
   "version": "3.11.3"
  }
 },
 "nbformat": 4,
 "nbformat_minor": 2
}
