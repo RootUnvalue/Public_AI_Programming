{
 "cells": [
  {
   "cell_type": "markdown",
   "metadata": {},
   "source": [
    "> 고객에게 나이를 물은 후에 5세 미만은 무료,5세 이상 18세 이하에게는 5000원,  65세 이상 80세 이하는 3000원, 80세 이상은 1000원, 그외는 10000원 받기로 했다. 이를 진행하는 코드를 작성해 보세요."
   ]
  },
  {
   "cell_type": "code",
   "execution_count": 10,
   "metadata": {},
   "outputs": [
    {
     "name": "stdout",
     "output_type": "stream",
     "text": [
      "1000won\n"
     ]
    }
   ],
   "source": [
    "age = int(input(\"나이 입력\"))\n",
    "\n",
    "if age < 5:\n",
    "    print(\"free\")\n",
    "elif age <= 18:\n",
    "    print(\"5000won\")\n",
    "elif 65 <= age and age > 80:\n",
    "    print(\"3000won\")\n",
    "elif 80 < age:\n",
    "    print(\"1000won\")\n",
    "else:\n",
    "    print(\"10000won\")"
   ]
  },
  {
   "cell_type": "markdown",
   "metadata": {},
   "source": [
    "다음 A의 원소중에서 가장 작은 수가 무엇이고 그것의 위치는 어디에 있는지 알아보시오."
   ]
  },
  {
   "cell_type": "code",
   "execution_count": 8,
   "metadata": {},
   "outputs": [
    {
     "name": "stdout",
     "output_type": "stream",
     "text": [
      "[4.17022005e+01 7.20324493e+01 1.14374817e-02 3.02332573e+01\n",
      " 1.46755891e+01 9.23385948e+00 1.86260211e+01 3.45560727e+01\n",
      " 3.96767474e+01 5.38816734e+01 4.19194514e+01 6.85219500e+01\n",
      " 2.04452250e+01 8.78117436e+01 2.73875932e+00 6.70467510e+01\n",
      " 4.17304802e+01 5.58689828e+01 1.40386939e+01 1.98101489e+01\n",
      " 8.00744569e+01 9.68261576e+01 3.13424178e+01 6.92322616e+01\n",
      " 8.76389152e+01 8.94606664e+01 8.50442114e+00 3.90547832e+00\n",
      " 1.69830420e+01 8.78142503e+01 9.83468338e+00 4.21107625e+01\n",
      " 9.57889530e+01 5.33165285e+01 6.91877114e+01 3.15515631e+01\n",
      " 6.86500928e+01 8.34625672e+01 1.82882773e+00 7.50144315e+01\n",
      " 9.88861089e+01 7.48165654e+01 2.80443992e+01 7.89279328e+01\n",
      " 1.03226007e+01 4.47893526e+01 9.08595503e+01 2.93614148e+01\n",
      " 2.87775339e+01 1.30028572e+01 1.93669579e+00 6.78835533e+01\n",
      " 2.11628116e+01 2.65546659e+01 4.91573159e+01 5.33625451e+00\n",
      " 5.74117605e+01 1.46728575e+01 5.89305537e+01 6.99758360e+01\n",
      " 1.02334429e+01 4.14055988e+01 6.94400158e+01 4.14179270e+01\n",
      " 4.99534589e+00 5.35896406e+01 6.63794645e+01 5.14889112e+01\n",
      " 9.44594756e+01 5.86555041e+01 9.03401915e+01 1.37474704e+01\n",
      " 1.39276347e+01 8.07391289e+01 3.97676837e+01 1.65354197e+01\n",
      " 9.27508580e+01 3.47765860e+01 7.50812103e+01 7.25997985e+01\n",
      " 8.83306091e+01 6.23672207e+01 7.50942434e+01 3.48898342e+01\n",
      " 2.69927892e+01 8.95886218e+01 4.28091190e+01 9.64840047e+01\n",
      " 6.63441498e+01 6.21695720e+01 1.14745973e+01 9.49489259e+01\n",
      " 4.49912133e+01 5.78389614e+01 4.08136803e+01 2.37026980e+01\n",
      " 9.03379521e+01 5.73679487e+01 2.87032703e-01 6.17144914e+01]\n",
      "0.011437481734488664 2\n"
     ]
    }
   ],
   "source": [
    "import numpy as np\n",
    "\n",
    "np.random.seed(1)\n",
    "A = np.random.rand(100) * 100\n",
    "print(A)\n",
    "\n",
    "min = 101\n",
    "min_index = 0\n",
    "tmp = 0\n",
    "\n",
    "for x in A:\n",
    "    if x < min:\n",
    "        min = x\n",
    "        min_index = tmp\n",
    "    tmp = tmp + 1\n",
    "\n",
    "print(min, min_index)\n"
   ]
  },
  {
   "cell_type": "markdown",
   "metadata": {},
   "source": [
    "> 1부터 1000까지의 수 중에서 2의 배수도 아니고 3의 배수도 아니고 5의 배수도 아닌 수들의 총합을 계산하시오.\n",
    "\n",
    "$S = 1 + 7 + ...$"
   ]
  },
  {
   "cell_type": "code",
   "execution_count": 5,
   "metadata": {},
   "outputs": [
    {
     "name": "stdout",
     "output_type": "stream",
     "text": [
      "132668\n"
     ]
    }
   ],
   "source": [
    "S = 0\n",
    "\n",
    "for n in range(1,1001):\n",
    "    if (n % 2 != 0 and n % 3 != 0 and n % 5 != 0):\n",
    "        S = S + n\n",
    "        # print(n)\n",
    "\n",
    "print(S)"
   ]
  },
  {
   "cell_type": "markdown",
   "metadata": {},
   "source": [
    "> 다음을 계산하시오.\n",
    "\n",
    "$S = 1 + \\frac{2}{3} + (\\frac{2}{3})^2 + (\\frac{2}{3})^3 + ... + (\\frac{2}{3})^{100}$"
   ]
  },
  {
   "cell_type": "code",
   "execution_count": 3,
   "metadata": {},
   "outputs": [
    {
     "name": "stdout",
     "output_type": "stream",
     "text": [
      "2.9999999999999987\n"
     ]
    }
   ],
   "source": [
    "import math\n",
    "\n",
    "S = 1\n",
    "\n",
    "for n in range (1, 101):\n",
    "    tmp = pow(2/3, n)\n",
    "    S = S + tmp\n",
    "    # print(tmp)\n",
    "\n",
    "print(S)"
   ]
  }
 ],
 "metadata": {
  "kernelspec": {
   "display_name": "Python 3",
   "language": "python",
   "name": "python3"
  },
  "language_info": {
   "codemirror_mode": {
    "name": "ipython",
    "version": 3
   },
   "file_extension": ".py",
   "mimetype": "text/x-python",
   "name": "python",
   "nbconvert_exporter": "python",
   "pygments_lexer": "ipython3",
   "version": "3.11.5"
  },
  "orig_nbformat": 4
 },
 "nbformat": 4,
 "nbformat_minor": 2
}
