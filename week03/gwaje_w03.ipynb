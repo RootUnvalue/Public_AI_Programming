{
 "cells": [
  {
   "cell_type": "markdown",
   "metadata": {},
   "source": [
    "아래 표(성적)를 Dictionary로 만드시오.\n",
    "\n",
    "            Korean      English     Math\n",
    "    Tom     100         80          75\n",
    "    Jane    96          77          65\n",
    "    Carl    87          80          90"
   ]
  },
  {
   "cell_type": "code",
   "execution_count": 60,
   "metadata": {},
   "outputs": [
    {
     "name": "stdout",
     "output_type": "stream",
     "text": [
      "{'Tom': {'Kor': 100, 'Eng': 80, 'Math': 75}, 'Jane': {'Kor': 96, 'Eng': 77, 'Math': 65}, 'Carl': {'Kor': 87, 'Eng': 80, 'Math': 90}}\n"
     ]
    }
   ],
   "source": [
    "def updateGrade(name, kor, eng, math):\n",
    "    grades[name] = {\"Kor\":kor,\"Eng\":eng,\"Math\":math}\n",
    "    return\n",
    "grades = {}\n",
    "updateGrade(\"Tom\", 100, 80, 75)\n",
    "updateGrade(\"Jane\", 96, 77, 65)\n",
    "updateGrade(\"Carl\", 87, 80, 90)\n",
    "print(grades)"
   ]
  },
  {
   "cell_type": "markdown",
   "metadata": {},
   "source": [
    "Eve의 성적 100, 99, 98을 추가하시오."
   ]
  },
  {
   "cell_type": "code",
   "execution_count": 61,
   "metadata": {},
   "outputs": [
    {
     "name": "stdout",
     "output_type": "stream",
     "text": [
      "{'Tom': {'Kor': 100, 'Eng': 80, 'Math': 75}, 'Jane': {'Kor': 96, 'Eng': 77, 'Math': 65}, 'Carl': {'Kor': 87, 'Eng': 80, 'Math': 90}, 'Eve': {'Kor': 100, 'Eng': 99, 'Math': 98}}\n"
     ]
    }
   ],
   "source": [
    "grades[\"Eve\"] = {\"Kor\":100,\"Eng\":99,\"Math\":98}\n",
    "print(grades)"
   ]
  },
  {
   "cell_type": "markdown",
   "metadata": {},
   "source": [
    "Tom의 English 성적을 88로 수정하시오."
   ]
  },
  {
   "cell_type": "code",
   "execution_count": 62,
   "metadata": {},
   "outputs": [
    {
     "name": "stdout",
     "output_type": "stream",
     "text": [
      "{'Kor': 100, 'Eng': 88, 'Math': 75}\n"
     ]
    }
   ],
   "source": [
    "grades[\"Tom\"][\"Eng\"] = 88\n",
    "print(grades[\"Tom\"])"
   ]
  },
  {
   "cell_type": "markdown",
   "metadata": {},
   "source": [
    "다음 튜블 T를 수정하라.\n",
    "\n",
    "T = 1,2,3,4,5 -> 99,2,3,4,5"
   ]
  },
  {
   "cell_type": "code",
   "execution_count": 63,
   "metadata": {},
   "outputs": [
    {
     "name": "stdout",
     "output_type": "stream",
     "text": [
      "(99, 2, 3, 4, 5)\n"
     ]
    }
   ],
   "source": [
    "T = (1, 2, 3, 4, 5)\n",
    "T = (99,) + T[1:]\n",
    "print(T)"
   ]
  },
  {
   "cell_type": "markdown",
   "metadata": {},
   "source": [
    "다음 튜플 T에 6을 추가하라.\n",
    "\n",
    "T = 1,2,3,4,5 -> T = 1,2,3,4,5,6"
   ]
  },
  {
   "cell_type": "code",
   "execution_count": 64,
   "metadata": {},
   "outputs": [
    {
     "name": "stdout",
     "output_type": "stream",
     "text": [
      "(1, 2, 3, 4, 5, 6)\n"
     ]
    }
   ],
   "source": [
    "T = (1, 2, 3, 4, 5)\n",
    "T = T + (6,)\n",
    "print(T)"
   ]
  },
  {
   "cell_type": "markdown",
   "metadata": {},
   "source": [
    "다음 리스트 L을 수정하라.\n",
    "\n",
    "L = [1, 2, 3, 4, 5] -> L = [99, 2, 3, 4, 5]"
   ]
  },
  {
   "cell_type": "code",
   "execution_count": 65,
   "metadata": {},
   "outputs": [
    {
     "name": "stdout",
     "output_type": "stream",
     "text": [
      "[99, 2, 3, 4, 5]\n"
     ]
    }
   ],
   "source": [
    "L = [1, 2, 3, 4, 5]\n",
    "L[0] = 99\n",
    "print(L)"
   ]
  },
  {
   "cell_type": "markdown",
   "metadata": {},
   "source": [
    "다음 리스트 L에 6을 추가하라.\n",
    "\n",
    "L = [1, 2, 3, 4, 5] -> L = [1, 2, 3, 4, 5, 6]"
   ]
  },
  {
   "cell_type": "code",
   "execution_count": 66,
   "metadata": {},
   "outputs": [
    {
     "name": "stdout",
     "output_type": "stream",
     "text": [
      "[1, 2, 3, 4, 5, 6]\n"
     ]
    }
   ],
   "source": [
    "L = [1, 2, 3, 4, 5]\n",
    "L.append(6)\n",
    "print(L)"
   ]
  },
  {
   "cell_type": "markdown",
   "metadata": {},
   "source": [
    "dir(' ') 를 통해 find 라는 메소드를 찾았다.\n",
    "\n",
    "find는 어떤 것을 처리하는 메소드인가?\n",
    "\n",
    "-> 형식 문자열.find(문자(열), 시작점, 끝점)\n",
    "\n",
    "위 형식에서 문자는 문자열 형태(''를 씌운 형태)로, 시작점은 그대로(0번 인덱스 부터), 끝점은 원하는 지점에서 +1을 한 수(1번을 끝점으로 지정하고 싶은 경우 2를 입력)를 입력해야 함.\n",
    "\n",
    "find 메소드는 문자(열)이 시작점부터 끝점까지 있는가를 찾아본다.\n",
    "\n",
    "만약 아래와 같이 문자(열)만 사용한다면 가장 먼저 나오는 인덱스을 찾아 반환한다.\n",
    "\n",
    "find('d')를 입력하는 경우 아래 문자열(a)에서 0부터 시작해 2번째 인덱스에 있기 때문에 2를 반환한다.\n",
    "\n",
    "만약 없을 경우, -1을 반환한다.\n",
    "\n",
    "find('a',1,5) 를 입력하는 경우, 4를 반환한다."
   ]
  },
  {
   "cell_type": "code",
   "execution_count": 67,
   "metadata": {},
   "outputs": [
    {
     "name": "stdout",
     "output_type": "stream",
     "text": [
      "0\n",
      "4\n",
      "2\n",
      "-1\n",
      "4\n",
      "-1\n"
     ]
    }
   ],
   "source": [
    "a = 'asdfasdf'\n",
    "print(a.find('a'))\n",
    "print(a.find('a',1,5))\n",
    "print(a.find('d'))\n",
    "print(a.find('g'))\n",
    "print(a.find('as', 1))\n",
    "print(a.find('as',1, 5))"
   ]
  },
  {
   "cell_type": "markdown",
   "metadata": {},
   "source": [
    "문자열 에서도 find를 사용할 수 있는가?\n",
    "\n",
    "-> 사용할 수 없다.\n",
    "\n",
    "그렇다면 같은 역할을 어떻게 수행하게 할 수 있는가?\n",
    "\n",
    "-> 있는가 없는가만을를 판단하려면\n",
    "\n",
    "count 메소드를 사용한다.\n",
    "\n",
    "단 count 메소드는 인덱스를 표시하지 않고 문자가 들어간 횟수를 반환한다.\n",
    "\n",
    "-> 문자의 인덱스를 알고자 한다면 리스트를 문자열로 변환(for문 등 사용) 후, find 메소드를 사용한다."
   ]
  },
  {
   "cell_type": "code",
   "execution_count": 68,
   "metadata": {},
   "outputs": [
    {
     "name": "stdout",
     "output_type": "stream",
     "text": [
      "1\n",
      "0\n",
      "1\n",
      "0\n"
     ]
    }
   ],
   "source": [
    "b = ['h', 'e', 'l', 'l', 'o']\n",
    "print(b.count('h'))\n",
    "print(b.count('g'))\n",
    "\n",
    "c = \"\"\n",
    "for i in b:\n",
    "    c = c + i\n",
    "\n",
    "print(c.count('h'))#문자열도 count 사용가능!\n",
    "print(c.find('h'))"
   ]
  },
  {
   "cell_type": "markdown",
   "metadata": {},
   "source": [
    "ASCII Code 70이 가르키는 문자는 무엇인가?\n",
    "\n",
    "문자 'A'의 ASCII Code는 무엇인가?"
   ]
  },
  {
   "cell_type": "code",
   "execution_count": 69,
   "metadata": {},
   "outputs": [
    {
     "name": "stdout",
     "output_type": "stream",
     "text": [
      "F\n",
      "65\n"
     ]
    }
   ],
   "source": [
    "print(chr(70))\n",
    "print(ord('A'))"
   ]
  }
 ],
 "metadata": {
  "kernelspec": {
   "display_name": "Python 3",
   "language": "python",
   "name": "python3"
  },
  "language_info": {
   "codemirror_mode": {
    "name": "ipython",
    "version": 3
   },
   "file_extension": ".py",
   "mimetype": "text/x-python",
   "name": "python",
   "nbconvert_exporter": "python",
   "pygments_lexer": "ipython3",
   "version": "3.11.3"
  },
  "orig_nbformat": 4
 },
 "nbformat": 4,
 "nbformat_minor": 2
}
